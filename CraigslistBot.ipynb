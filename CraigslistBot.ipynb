{
 "cells": [
  {
   "cell_type": "markdown",
   "metadata": {},
   "source": [
    "### Links"
   ]
  },
  {
   "cell_type": "markdown",
   "metadata": {},
   "source": [
    "https://deadmanssnitch.com/ <br>\n",
    "https://www.dataquest.io/blog/apartment-finding-slackbot/ <br>\n",
    "https://github.com/juliomalegria/python-craigslist <br>\n",
    "https://github.com/slackapi/python-slackclient"
   ]
  },
  {
   "cell_type": "code",
   "execution_count": 62,
   "metadata": {},
   "outputs": [],
   "source": [
    "import os\n",
    "from slack import WebClient\n",
    "from slack.errors import SlackApiError\n",
    "from craigslist import CraigslistForSale\n",
    "import pandas as pd\n",
    "from datetime import datetime\n",
    "from slack import WebClient\n",
    "import asyncio\n",
    "import nest_asyncio\n",
    "from slack_creds import creds"
   ]
  },
  {
   "cell_type": "markdown",
   "metadata": {},
   "source": [
    "### Get Craigslist posts"
   ]
  },
  {
   "cell_type": "code",
   "execution_count": 60,
   "metadata": {},
   "outputs": [],
   "source": [
    "# Search queries\n",
    "posts_SD = CraigslistForSale(site=\"sandiego\", filters={'query': \"eurorack\"})\n",
    "posts_OC = CraigslistForSale(site=\"orangecounty\", filters={'query': \"eurorack\"})\n",
    "posts_ALL = {\"SD\" : posts_SD, \"OC\" : posts_OC}\n",
    "\n",
    "# Get posts via python-craigslist\n",
    "results = []\n",
    "for location, posts in posts_ALL.items():\n",
    "    for result in posts.get_results(sort_by='newest'):\n",
    "        result[\"where\"] += f\" - {location}\"\n",
    "        results.append(result)\n",
    "df = pd.DataFrame(results)\n",
    "\n",
    "# Clean data\n",
    "for i, row in df.iterrows():\n",
    "    # Convert last_updated into relative time value in hours\n",
    "    time_posted = pd.to_datetime(row[\"last_updated\"], infer_datetime_format=True)  \n",
    "    time_now = pd.to_datetime(datetime.now(), infer_datetime_format=True)\n",
    "    time_diff = pd.Timedelta(time_now - time_posted).seconds / 3600\n",
    "    df.at[i,'hrs_ago'] = round(time_diff, 1)\n",
    "    \n",
    "    # Convert price to float\n",
    "    price = float(row[\"price\"][1:])\n",
    "    df.at[i,'price'] = price\n",
    "    \n",
    "# Drop unnecessary columns\n",
    "df = df.drop([\"datetime\", \"geotag\", \"has_image\", \"repost_of\", \"last_updated\"], axis=1)\n",
    "\n",
    "# Re-order columns\n",
    "df = df[['id', 'name', 'price' , 'url', 'hrs_ago', 'where']]\n",
    "\n",
    "# Sort by price and last update\n",
    "df = df.sort_values(by=[\"price\", \"hrs_ago\"]).reset_index(drop=True)\n",
    "\n",
    "# Compile into text for bot\n",
    "text = \"\"\n",
    "for i, row in df.iterrows():\n",
    "    text += f\"{row['name']} | {row['price']} | {row['hrs_ago']} hrs ago | {row['where']}\\n{row['url']}\\n\\n\""
   ]
  },
  {
   "cell_type": "markdown",
   "metadata": {},
   "source": [
    "### Post to slack"
   ]
  },
  {
   "cell_type": "code",
   "execution_count": 65,
   "metadata": {},
   "outputs": [],
   "source": [
    "nest_asyncio.apply()\n",
    "\n",
    "SLACK_CHANNEL = \"#synth-bot\"\n",
    "\n",
    "client = WebClient(token=creds[\"token\"])\n",
    "\n",
    "try:\n",
    "    response = client.chat_postMessage(\n",
    "        channel=SLACK_CHANNEL,\n",
    "        text=text,\n",
    "        username = \"Synth-Bot\")\n",
    "except SlackApiError as e:\n",
    "    # You will get a SlackApiError if \"ok\" is False\n",
    "    assert e.response[\"ok\"] is False\n",
    "    assert e.response[\"error\"]  # str like 'invalid_auth', 'channel_not_found'\n",
    "    print(f\"Got an error: {e.response['error']}\")"
   ]
  }
 ],
 "metadata": {
  "kernelspec": {
   "display_name": "Python 3",
   "language": "python",
   "name": "python3"
  },
  "language_info": {
   "codemirror_mode": {
    "name": "ipython",
    "version": 3
   },
   "file_extension": ".py",
   "mimetype": "text/x-python",
   "name": "python",
   "nbconvert_exporter": "python",
   "pygments_lexer": "ipython3",
   "version": "3.7.6"
  }
 },
 "nbformat": 4,
 "nbformat_minor": 4
}
